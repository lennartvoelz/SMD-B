{
 "cells": [
  {
   "cell_type": "markdown",
   "metadata": {},
   "source": [
    "Sheet 07"
   ]
  },
  {
   "cell_type": "markdown",
   "metadata": {},
   "source": [
    "(a)"
   ]
  },
  {
   "cell_type": "markdown",
   "metadata": {},
   "source": [
    "(b)"
   ]
  },
  {
   "cell_type": "code",
   "execution_count": 40,
   "metadata": {},
   "outputs": [],
   "source": [
    "import numpy as np\n",
    "import matplotlib.pyplot as plt"
   ]
  },
  {
   "cell_type": "code",
   "execution_count": 41,
   "metadata": {},
   "outputs": [
    {
     "data": {
      "text/plain": [
       "(array([ 1.,  0.,  0.,  0.,  2.,  1.,  0.,  0.,  1.,  0.,  0.,  1.,  0.,\n",
       "         0.,  3.,  6.,  5.,  2.,  5.,  3.,  4.,  7.,  6.,  3.,  6., 10.,\n",
       "         4.,  7.,  6., 10., 11., 18., 12., 11., 19., 14., 13., 26., 21.,\n",
       "        15., 20., 24., 21., 19., 27., 28., 23., 25., 19., 26., 34., 25.,\n",
       "        19., 30., 26., 26., 25., 17., 25., 23., 23., 24., 21., 17., 14.,\n",
       "        19., 13., 16., 16., 11., 14.,  5.,  8.,  4.,  5.,  7.,  5.,  7.,\n",
       "         4.,  2.,  2.,  1.,  4.,  2.,  1.,  1.,  2.,  1.,  0.,  5.,  4.,\n",
       "         0.,  1.,  2.,  1.,  1.,  1.,  0.,  0.,  1.]),\n",
       " array([ 3.7265101 ,  3.85090718,  3.97530426,  4.09970134,  4.22409842,\n",
       "         4.34849551,  4.47289259,  4.59728967,  4.72168675,  4.84608383,\n",
       "         4.97048091,  5.09487799,  5.21927507,  5.34367215,  5.46806923,\n",
       "         5.59246631,  5.71686339,  5.84126048,  5.96565756,  6.09005464,\n",
       "         6.21445172,  6.3388488 ,  6.46324588,  6.58764296,  6.71204004,\n",
       "         6.83643712,  6.9608342 ,  7.08523128,  7.20962836,  7.33402545,\n",
       "         7.45842253,  7.58281961,  7.70721669,  7.83161377,  7.95601085,\n",
       "         8.08040793,  8.20480501,  8.32920209,  8.45359917,  8.57799625,\n",
       "         8.70239333,  8.82679042,  8.9511875 ,  9.07558458,  9.19998166,\n",
       "         9.32437874,  9.44877582,  9.5731729 ,  9.69756998,  9.82196706,\n",
       "         9.94636414, 10.07076122, 10.1951583 , 10.31955539, 10.44395247,\n",
       "        10.56834955, 10.69274663, 10.81714371, 10.94154079, 11.06593787,\n",
       "        11.19033495, 11.31473203, 11.43912911, 11.56352619, 11.68792328,\n",
       "        11.81232036, 11.93671744, 12.06111452, 12.1855116 , 12.30990868,\n",
       "        12.43430576, 12.55870284, 12.68309992, 12.807497  , 12.93189408,\n",
       "        13.05629116, 13.18068825, 13.30508533, 13.42948241, 13.55387949,\n",
       "        13.67827657, 13.80267365, 13.92707073, 14.05146781, 14.17586489,\n",
       "        14.30026197, 14.42465905, 14.54905613, 14.67345322, 14.7978503 ,\n",
       "        14.92224738, 15.04664446, 15.17104154, 15.29543862, 15.4198357 ,\n",
       "        15.54423278, 15.66862986, 15.79302694, 15.91742402, 16.0418211 ,\n",
       "        16.16621819]),\n",
       " <BarContainer object of 100 artists>)"
      ]
     },
     "execution_count": 41,
     "metadata": {},
     "output_type": "execute_result"
    },
    {
     "data": {
      "image/png": "[encoded data removed]",
      "text/plain": [
       "<Figure size 640x480 with 1 Axes>"
      ]
     },
     "metadata": {},
     "output_type": "display_data"
    }
   ],
   "source": [
    "def kog_smir_test(X, Y, alpha):\n",
    "    if len(X) != len(Y):\n",
    "        print(\"X and Y have different binning\")\n",
    "        return False\n",
    "    else:\n",
    "        X_cum = np.cumsum(X)/np.sum(X)\n",
    "        Y_cum = np.cumsum(Y)/np.sum(Y)\n",
    "        d_max = np.max(np.abs(X_cum - Y_cum))\n",
    "        d_alpha = np.sqrt(-np.log(alpha/2)/(2*len(X)))\n",
    "        return d_max < d_alpha\n",
    "\n",
    "\n",
    "def data(mu, size=10000, bins=100):\n",
    "    #aus (a)\n",
    "    sigma = np.sqrt(mu)\n",
    "    X = np.random.normal(mu, sigma, size)\n",
    "    Y = np.random.poisson(mu, size)\n",
    "    X = np.round(X)\n",
    "    \n",
    "\n",
    "\n",
    "\n",
    "\n"
   ]
  }
 ],
 "metadata": {
  "kernelspec": {
   "display_name": "ml",
   "language": "python",
   "name": "python3"
  },
  "language_info": {
   "codemirror_mode": {
    "name": "ipython",
    "version": 3
   },
   "file_extension": ".py",
   "mimetype": "text/x-python",
   "name": "python",
   "nbconvert_exporter": "python",
   "pygments_lexer": "ipython3",
   "version": "3.10.13"
  }
 },
 "nbformat": 4,
 "nbformat_minor": 2
}
