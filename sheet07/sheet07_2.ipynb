{
 "cells": [
  {
   "cell_type": "code",
   "execution_count": 35,
   "metadata": {},
   "outputs": [],
   "source": [
    "import numpy as np\n",
    "import matplotlib.pyplot as plt"
   ]
  },
  {
   "cell_type": "markdown",
   "metadata": {},
   "source": [
    "Nehme an, dass Zähörate der Protonen Poissonverteilung folgt:\\\n",
    "$P(X=k) = \\frac{\\lambda^k}{k!}\\exp(-\\lambda) \\Rightarrow L=\\prod_i P(k_i,\\lambda)\\\\$\n",
    "Negative-Log-Likelihood extremalisieren:\\\n",
    "$F = -\\ln(L) =  \\Rightarrow \\frac{dF}{d\\lambda} = $\n"
   ]
  },
  {
   "cell_type": "code",
   "execution_count": 36,
   "metadata": {},
   "outputs": [
    {
     "name": "stdout",
     "output_type": "stream",
     "text": [
      "Wahrscheinlichste Zählrate: 4218.0\n"
     ]
    }
   ],
   "source": [
    "counts = [4135, 4202, 4203, 4218, 4227, 4231, 4310]\n",
    "\n",
    "total_counts = sum(counts)\n",
    "\n",
    "lambda_mle = total_counts / len(counts)\n",
    "\n",
    "print(f\"Wahrscheinlichste Zählrate: {lambda_mle}\")"
   ]
  }
 ],
 "metadata": {
  "kernelspec": {
   "display_name": "ml",
   "language": "python",
   "name": "python3"
  },
  "language_info": {
   "codemirror_mode": {
    "name": "ipython",
    "version": 3
   },
   "file_extension": ".py",
   "mimetype": "text/x-python",
   "name": "python",
   "nbconvert_exporter": "python",
   "pygments_lexer": "ipython3",
   "version": "3.10.13"
  }
 },
 "nbformat": 4,
 "nbformat_minor": 2
}
