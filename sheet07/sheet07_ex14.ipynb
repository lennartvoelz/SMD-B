{
 "cells": [
  {
   "cell_type": "code",
   "execution_count": 256,
   "metadata": {},
   "outputs": [],
   "source": [
    "import numpy as np\n",
    "import matplotlib.pyplot as plt"
   ]
  },
  {
   "cell_type": "markdown",
   "metadata": {},
   "source": [
    "(a)"
   ]
  },
  {
   "cell_type": "markdown",
   "metadata": {},
   "source": [
    "Nehme an, dass Zählrate der Protonen Poissonverteilung folgt:\\\n",
    "$P(X=k) = \\frac{\\lambda^k}{k!}\\exp(-\\lambda) \\Rightarrow L=\\prod_i P(k_i,\\lambda)\\\\$\n",
    "Negative-Log-Likelihood extremalisieren:\\\n",
    "$F = -\\ln(L) \\Rightarrow \\frac{dF}{d\\lambda} = 0 \\Rightarrow \\hat{\\lambda} = \\frac{1}{n}\\sum_i^n k_i$\n"
   ]
  },
  {
   "cell_type": "code",
   "execution_count": 257,
   "metadata": {},
   "outputs": [
    {
     "name": "stdout",
     "output_type": "stream",
     "text": [
      "Wahrscheinlichste Zählrate: 4218.0\n"
     ]
    }
   ],
   "source": [
    "counts = [4135, 4202, 4203, 4218, 4227, 4231, 4310]\n",
    "days = [1, 2, 3, 4, 5, 6, 7]\n",
    "\n",
    "total_counts = np.sum(counts)\n",
    "\n",
    "lambda_L = total_counts / len(counts)\n",
    "\n",
    "print(f\"Wahrscheinlichste Zählrate: {lambda_L}\")"
   ]
  },
  {
   "cell_type": "markdown",
   "metadata": {},
   "source": [
    "(b)"
   ]
  },
  {
   "cell_type": "markdown",
   "metadata": {},
   "source": [
    "$\\lambda_i = x_i\\cdot a +b \\Rightarrow F(a,b) = - \\sum_i^n k_i\\ln(x_i a + b) - \\ln(k_i!) - (x_i a + b)$"
   ]
  },
  {
   "cell_type": "code",
   "execution_count": 258,
   "metadata": {},
   "outputs": [
    {
     "name": "stdout",
     "output_type": "stream",
     "text": [
      "Parameter a: 21.705863006495083 Parameter b: 4131.202912494882\n"
     ]
    }
   ],
   "source": [
    "def F(x0):\n",
    "    a = x0[0]\n",
    "    b = x0[1]\n",
    "    sum_ = 0\n",
    "    k = counts\n",
    "    x = days\n",
    "    for i in range(len(k)):\n",
    "        sum_ += -k[i]*np.log(x[i]*a+b)+(x[i]*a+b)\n",
    "    return sum_\n",
    "\n",
    "import scipy.optimize as opt\n",
    "result = opt.minimize(F, x0 = [10, 4000])\n",
    "#print(result)\n",
    "a = result.x[0]\n",
    "b = result.x[1]\n",
    "print(f\"Parameter a: {result.x[0]}\", f\"Parameter b: {result.x[1]}\")"
   ]
  },
  {
   "cell_type": "markdown",
   "metadata": {},
   "source": [
    "(c)"
   ]
  },
  {
   "cell_type": "markdown",
   "metadata": {},
   "source": [
    "$D = 2\\sum_i^n k_i\\ln(a x_i + b) - (x_ia+b) - k_i\\ln(\\hat{\\lambda_1})+\\hat{\\lambda_1}$"
   ]
  },
  {
   "cell_type": "code",
   "execution_count": 259,
   "metadata": {},
   "outputs": [
    {
     "name": "stdout",
     "output_type": "stream",
     "text": [
      "D: 3.1181876552291214\n",
      "sqrt(D): 1.765839079652821\n"
     ]
    }
   ],
   "source": [
    "D = 0\n",
    "for i in range(len(days)):\n",
    "    D += counts[i]*np.log(a*days[i]+b)-a*days[i]-b-counts[i]*np.log(lambda_L)+lambda_L\n",
    "\n",
    "D = 2*D\n",
    "print(f\"D: {D}\")\n",
    "print(f\"sqrt(D): {np.sqrt(D)}\")"
   ]
  },
  {
   "cell_type": "markdown",
   "metadata": {},
   "source": [
    "Signifikanz $S = \\sqrt{D}\\sigma = 1.765839079652821\\sigma$"
   ]
  },
  {
   "cell_type": "markdown",
   "metadata": {},
   "source": [
    "(d)"
   ]
  },
  {
   "cell_type": "code",
   "execution_count": 260,
   "metadata": {},
   "outputs": [
    {
     "name": "stdout",
     "output_type": "stream",
     "text": [
      "Wahrscheinlichste Zählrate: 4241.0\n"
     ]
    }
   ],
   "source": [
    "counts = [4135, 4202, 4203, 4218, 4227, 4231, 4310, 4402]\n",
    "days = [1, 2, 3, 4, 5, 6, 7, 14]\n",
    "\n",
    "total_counts = np.sum(counts)\n",
    "\n",
    "lambda_L = total_counts / len(counts)\n",
    "\n",
    "print(f\"Wahrscheinlichste Zählrate: {lambda_L}\")"
   ]
  },
  {
   "cell_type": "code",
   "execution_count": 261,
   "metadata": {},
   "outputs": [
    {
     "name": "stdout",
     "output_type": "stream",
     "text": [
      "Parameter a: 19.207689368160977 Parameter b: 4140.300272806253\n"
     ]
    }
   ],
   "source": [
    "def F(x0):\n",
    "    a = x0[0]\n",
    "    b = x0[1]\n",
    "    sum_ = 0\n",
    "    k = counts\n",
    "    x = days\n",
    "    for i in range(len(k)):\n",
    "        sum_ += -k[i]*np.log(x[i]*a+b)+(x[i]*a+b)\n",
    "    return sum_\n",
    "\n",
    "import scipy.optimize as opt\n",
    "result = opt.minimize(F, x0 = [10, 4000])\n",
    "#print(result)\n",
    "a = result.x[0]\n",
    "b = result.x[1]\n",
    "print(f\"Parameter a: {result.x[0]}\", f\"Parameter b: {result.x[1]}\")"
   ]
  },
  {
   "cell_type": "code",
   "execution_count": 262,
   "metadata": {},
   "outputs": [
    {
     "name": "stdout",
     "output_type": "stream",
     "text": [
      "D: 9.975907632586313\n",
      "sqrt(D): 3.158466025238567\n"
     ]
    }
   ],
   "source": [
    "D = 0\n",
    "for i in range(len(days)):\n",
    "    D += counts[i]*np.log(a*days[i]+b)-a*days[i]-b-counts[i]*np.log(lambda_L)+lambda_L\n",
    "\n",
    "D = 2*D\n",
    "print(f\"D: {D}\")\n",
    "print(f\"sqrt(D): {np.sqrt(D)}\")"
   ]
  },
  {
   "cell_type": "markdown",
   "metadata": {},
   "source": [
    "Signifikanz $S = \\sqrt{D}\\sigma = 3.158466025238567\\sigma$"
   ]
  },
  {
   "cell_type": "markdown",
   "metadata": {},
   "source": [
    "(e)"
   ]
  },
  {
   "cell_type": "markdown",
   "metadata": {},
   "source": [
    "Man muss hier aufpassen, da zu einer fertigen Analyse nur ein weiterer Messwert hinzugefügt wird. Da dieser Messwert der Erwartung folgt, erhöht er die Signifikanz stark, jedoch kann dieser \n",
    "Peak in den Messwerten auch statistische Fluktuation sein, sodass die Signifikanz fälschlich erhöht wird (Type1 Fehler). Der Hypothesentest sollte also mit weiteren Messtagen wiederholt werden, um statistische Schwankungen möglichst rauszumitteln."
   ]
  }
 ],
 "metadata": {
  "kernelspec": {
   "display_name": "ml",
   "language": "python",
   "name": "python3"
  },
  "language_info": {
   "codemirror_mode": {
    "name": "ipython",
    "version": 3
   },
   "file_extension": ".py",
   "mimetype": "text/x-python",
   "name": "python",
   "nbconvert_exporter": "python",
   "pygments_lexer": "ipython3",
   "version": "3.10.13"
  }
 },
 "nbformat": 4,
 "nbformat_minor": 2
}
