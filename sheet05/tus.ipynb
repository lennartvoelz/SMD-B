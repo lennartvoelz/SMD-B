{
 "cells": [
  {
   "cell_type": "code",
   "execution_count": 119,
   "metadata": {},
   "outputs": [],
   "source": [
    "import numpy as np\n",
    "import matplotlib.pyplot as plt"
   ]
  },
  {
   "cell_type": "code",
   "execution_count": 120,
   "metadata": {},
   "outputs": [
    {
     "name": "stdout",
     "output_type": "stream",
     "text": [
      "-0.39791561681440907\n"
     ]
    }
   ],
   "source": [
    "g = 9.81\n",
    "L = 45000/(28.9*10**(-3))\n",
    "R_L = 287\n",
    "R_W = 8.314\n",
    "c_p = 1150\n",
    "T = 270\n",
    "p_w = 570\n",
    "p = 85000\n",
    "x = p_w/p\n",
    "\n",
    "grad = -g*(1+x*L/(T*R_L))/(c_p+x*L**2/(R_W*T**2))\n",
    "print(grad*1000)"
   ]
  },
  {
   "cell_type": "code",
   "execution_count": 121,
   "metadata": {},
   "outputs": [
    {
     "name": "stdout",
     "output_type": "stream",
     "text": [
      "-8.530434782608696\n"
     ]
    }
   ],
   "source": [
    "grad_trocken = -g/c_p\n",
    "print(grad_trocken*1000)"
   ]
  }
 ],
 "metadata": {
  "kernelspec": {
   "display_name": "ml",
   "language": "python",
   "name": "python3"
  },
  "language_info": {
   "codemirror_mode": {
    "name": "ipython",
    "version": 3
   },
   "file_extension": ".py",
   "mimetype": "text/x-python",
   "name": "python",
   "nbconvert_exporter": "python",
   "pygments_lexer": "ipython3",
   "version": "3.10.13"
  }
 },
 "nbformat": 4,
 "nbformat_minor": 2
}
